{
  "cells": [
    {
      "cell_type": "markdown",
      "metadata": {
        "id": "view-in-github",
        "colab_type": "text"
      },
      "source": [
        "<a href=\"https://colab.research.google.com/github/caraxces/Scanning-Android-Application/blob/main/DA_REquest_26.ipynb\" target=\"_parent\"><img src=\"https://colab.research.google.com/assets/colab-badge.svg\" alt=\"Open In Colab\"/></a>"
      ]
    },
    {
      "cell_type": "markdown",
      "source": [
        "# Offline Event"
      ],
      "metadata": {
        "id": "xMsYtjPe8t3M"
      }
    },
    {
      "cell_type": "code",
      "execution_count": 1,
      "metadata": {
        "id": "My6PsOAJ8RK4"
      },
      "outputs": [],
      "source": [
        "import pandas as pd\n",
        "from google.colab import files\n"
      ]
    },
    {
      "cell_type": "code",
      "execution_count": 2,
      "metadata": {
        "id": "NG8UBF5f8RK7"
      },
      "outputs": [],
      "source": [
        "df_donhang = pd.read_excel('donhang.xlsx',header= 1)\n",
        "df_donhang.drop(0,axis=0,inplace=True)"
      ]
    },
    {
      "cell_type": "code",
      "execution_count": 3,
      "metadata": {
        "id": "6T0m3QU68RK7"
      },
      "outputs": [],
      "source": [
        "df_sanpham = pd.read_excel('sanpham.xlsx',header= 2)\n",
        "df_sanpham.drop(0,axis=0,inplace=True);\n",
        "df_sanpham = df_sanpham[['Mã ĐH', 'Ngày chứng từ', 'Chi nhánh', 'Nguồn bán hàng',\n",
        "       'Nhân viên tạo đơn', 'Trạng thái đơn hàng', 'Tên khách hàng', 'Mã sản phẩm', 'Tên sản phẩm',\n",
        "       'Tổng tiền hàng']]"
      ]
    },
    {
      "cell_type": "code",
      "source": [
        "df_sanpham"
      ],
      "metadata": {
        "id": "s1s1x3upnfT1",
        "colab": {
          "base_uri": "https://localhost:8080/",
          "height": 860
        },
        "outputId": "7aa5cb76-a300-466f-dc4b-033801d29316"
      },
      "execution_count": 4,
      "outputs": [
        {
          "output_type": "execute_result",
          "data": {
            "text/plain": [
              "                  Mã ĐH        Ngày chứng từ   Chi nhánh Nguồn bán hàng  \\\n",
              "1        250303K8F1UGYV  03/03/2025 07:45:31      Ru9 HQ         Shopee   \n",
              "2        250303K8F1UGYV  03/03/2025 07:45:31      Ru9 HQ         Shopee   \n",
              "3        250303K8EYX399  03/03/2025 07:45:29      Ru9 HQ         Shopee   \n",
              "4        250303K863QCG5  03/03/2025 07:40:30      Ru9 HQ         Shopee   \n",
              "5        250303K7N38Q1B  03/03/2025 07:30:59      Ru9 HQ         Shopee   \n",
              "..                  ...                  ...         ...            ...   \n",
              "414      250227961KKRKQ  27/02/2025 07:35:34      Ru9 HQ         Shopee   \n",
              "415      25022795WH0BV3  27/02/2025 07:33:18      Ru9 HQ         Shopee   \n",
              "416  580023451303316199  27/02/2025 06:40:23      Ru9 HQ     TiktokShop   \n",
              "417      2502278NS6K1FT  27/02/2025 02:44:33      Ru9 HQ         Shopee   \n",
              "418      2502278N1EENC7  27/02/2025 02:31:15  Kho Ops HN         Shopee   \n",
              "\n",
              "    Nhân viên tạo đơn Trạng thái đơn hàng      Tên khách hàng  \\\n",
              "1     Thuy Trang Dang            Đặt hàng            M******c   \n",
              "2     Thuy Trang Dang            Đặt hàng            M******c   \n",
              "3     Thuy Trang Dang            Đặt hàng            N******g   \n",
              "4     Thuy Trang Dang            Đặt hàng            T******n   \n",
              "5     Thuy Trang Dang            Đặt hàng  Nguyễn Linh Khuyên   \n",
              "..                ...                 ...                 ...   \n",
              "414   Thuy Trang Dang          Hoàn thành     Nguyen Ngoc Huy   \n",
              "415   Thuy Trang Dang              Đã hủy     Nguyen Ngoc Huy   \n",
              "416   Thuy Trang Dang              Đã hủy            Khách lẻ   \n",
              "417   Thuy Trang Dang          Hoàn thành       Chu mạnh Tuấn   \n",
              "418   Thuy Trang Dang          Hoàn thành            Anh Long   \n",
              "\n",
              "         Mã sản phẩm                                       Tên sản phẩm  \\\n",
              "1           MDUVET01  [MDUVET01] Chăn Mây Duvet Everyday (S - 160x20...   \n",
              "2       RU9ORGPROM51  [RU9ORGPROM51] Nệm Original Pro - Medium - (Sq...   \n",
              "3      ICEBLKT04GR01      [ICEBLKT04GR01] Chăn Lạnh (200 x 200cm, Grey)   \n",
              "4       RBPILLOWAF01                   [RBPILLOWAF01] Gối Chống Bẹp Đầu   \n",
              "5            EMSBE01   [EMSBE01] Ru9 Eye Mask (12x15cm,Champagne Beige)   \n",
              "..               ...                                                ...   \n",
              "414           EMSB01          [EMSB01] Ru9 Eye Mask (12x15cm,Navy Blue)   \n",
              "415           EMSB01          [EMSB01] Ru9 Eye Mask (12x15cm,Navy Blue)   \n",
              "416  TRVPILLOWNCGR01     [TRVPILLOWNCGR01] Gối Cổ Giảm Âm (Grey Orange)   \n",
              "417      MAYPILLOW01       [MAYPILLOW01] Gối Mây (Thấp - 50 x 70 x 8cm)   \n",
              "418      MAYPILLOW02       [MAYPILLOW02] Gối Mây (Cao - 50 x 70 x 12cm)   \n",
              "\n",
              "     Tổng tiền hàng  \n",
              "1               0.0  \n",
              "2        19990000.0  \n",
              "3          871200.0  \n",
              "4          289520.0  \n",
              "5          104720.0  \n",
              "..              ...  \n",
              "414        105910.0  \n",
              "415        105910.0  \n",
              "416        879120.0  \n",
              "417        372910.0  \n",
              "418        436100.0  \n",
              "\n",
              "[418 rows x 10 columns]"
            ],
            "text/html": [
              "\n",
              "  <div id=\"df-270e9529-9f1d-4d5f-a6a2-8ebb604265ee\" class=\"colab-df-container\">\n",
              "    <div>\n",
              "<style scoped>\n",
              "    .dataframe tbody tr th:only-of-type {\n",
              "        vertical-align: middle;\n",
              "    }\n",
              "\n",
              "    .dataframe tbody tr th {\n",
              "        vertical-align: top;\n",
              "    }\n",
              "\n",
              "    .dataframe thead th {\n",
              "        text-align: right;\n",
              "    }\n",
              "</style>\n",
              "<table border=\"1\" class=\"dataframe\">\n",
              "  <thead>\n",
              "    <tr style=\"text-align: right;\">\n",
              "      <th></th>\n",
              "      <th>Mã ĐH</th>\n",
              "      <th>Ngày chứng từ</th>\n",
              "      <th>Chi nhánh</th>\n",
              "      <th>Nguồn bán hàng</th>\n",
              "      <th>Nhân viên tạo đơn</th>\n",
              "      <th>Trạng thái đơn hàng</th>\n",
              "      <th>Tên khách hàng</th>\n",
              "      <th>Mã sản phẩm</th>\n",
              "      <th>Tên sản phẩm</th>\n",
              "      <th>Tổng tiền hàng</th>\n",
              "    </tr>\n",
              "  </thead>\n",
              "  <tbody>\n",
              "    <tr>\n",
              "      <th>1</th>\n",
              "      <td>250303K8F1UGYV</td>\n",
              "      <td>03/03/2025 07:45:31</td>\n",
              "      <td>Ru9 HQ</td>\n",
              "      <td>Shopee</td>\n",
              "      <td>Thuy Trang Dang</td>\n",
              "      <td>Đặt hàng</td>\n",
              "      <td>M******c</td>\n",
              "      <td>MDUVET01</td>\n",
              "      <td>[MDUVET01] Chăn Mây Duvet Everyday (S - 160x20...</td>\n",
              "      <td>0.0</td>\n",
              "    </tr>\n",
              "    <tr>\n",
              "      <th>2</th>\n",
              "      <td>250303K8F1UGYV</td>\n",
              "      <td>03/03/2025 07:45:31</td>\n",
              "      <td>Ru9 HQ</td>\n",
              "      <td>Shopee</td>\n",
              "      <td>Thuy Trang Dang</td>\n",
              "      <td>Đặt hàng</td>\n",
              "      <td>M******c</td>\n",
              "      <td>RU9ORGPROM51</td>\n",
              "      <td>[RU9ORGPROM51] Nệm Original Pro - Medium - (Sq...</td>\n",
              "      <td>19990000.0</td>\n",
              "    </tr>\n",
              "    <tr>\n",
              "      <th>3</th>\n",
              "      <td>250303K8EYX399</td>\n",
              "      <td>03/03/2025 07:45:29</td>\n",
              "      <td>Ru9 HQ</td>\n",
              "      <td>Shopee</td>\n",
              "      <td>Thuy Trang Dang</td>\n",
              "      <td>Đặt hàng</td>\n",
              "      <td>N******g</td>\n",
              "      <td>ICEBLKT04GR01</td>\n",
              "      <td>[ICEBLKT04GR01] Chăn Lạnh (200 x 200cm, Grey)</td>\n",
              "      <td>871200.0</td>\n",
              "    </tr>\n",
              "    <tr>\n",
              "      <th>4</th>\n",
              "      <td>250303K863QCG5</td>\n",
              "      <td>03/03/2025 07:40:30</td>\n",
              "      <td>Ru9 HQ</td>\n",
              "      <td>Shopee</td>\n",
              "      <td>Thuy Trang Dang</td>\n",
              "      <td>Đặt hàng</td>\n",
              "      <td>T******n</td>\n",
              "      <td>RBPILLOWAF01</td>\n",
              "      <td>[RBPILLOWAF01] Gối Chống Bẹp Đầu</td>\n",
              "      <td>289520.0</td>\n",
              "    </tr>\n",
              "    <tr>\n",
              "      <th>5</th>\n",
              "      <td>250303K7N38Q1B</td>\n",
              "      <td>03/03/2025 07:30:59</td>\n",
              "      <td>Ru9 HQ</td>\n",
              "      <td>Shopee</td>\n",
              "      <td>Thuy Trang Dang</td>\n",
              "      <td>Đặt hàng</td>\n",
              "      <td>Nguyễn Linh Khuyên</td>\n",
              "      <td>EMSBE01</td>\n",
              "      <td>[EMSBE01] Ru9 Eye Mask (12x15cm,Champagne Beige)</td>\n",
              "      <td>104720.0</td>\n",
              "    </tr>\n",
              "    <tr>\n",
              "      <th>...</th>\n",
              "      <td>...</td>\n",
              "      <td>...</td>\n",
              "      <td>...</td>\n",
              "      <td>...</td>\n",
              "      <td>...</td>\n",
              "      <td>...</td>\n",
              "      <td>...</td>\n",
              "      <td>...</td>\n",
              "      <td>...</td>\n",
              "      <td>...</td>\n",
              "    </tr>\n",
              "    <tr>\n",
              "      <th>414</th>\n",
              "      <td>250227961KKRKQ</td>\n",
              "      <td>27/02/2025 07:35:34</td>\n",
              "      <td>Ru9 HQ</td>\n",
              "      <td>Shopee</td>\n",
              "      <td>Thuy Trang Dang</td>\n",
              "      <td>Hoàn thành</td>\n",
              "      <td>Nguyen Ngoc Huy</td>\n",
              "      <td>EMSB01</td>\n",
              "      <td>[EMSB01] Ru9 Eye Mask (12x15cm,Navy Blue)</td>\n",
              "      <td>105910.0</td>\n",
              "    </tr>\n",
              "    <tr>\n",
              "      <th>415</th>\n",
              "      <td>25022795WH0BV3</td>\n",
              "      <td>27/02/2025 07:33:18</td>\n",
              "      <td>Ru9 HQ</td>\n",
              "      <td>Shopee</td>\n",
              "      <td>Thuy Trang Dang</td>\n",
              "      <td>Đã hủy</td>\n",
              "      <td>Nguyen Ngoc Huy</td>\n",
              "      <td>EMSB01</td>\n",
              "      <td>[EMSB01] Ru9 Eye Mask (12x15cm,Navy Blue)</td>\n",
              "      <td>105910.0</td>\n",
              "    </tr>\n",
              "    <tr>\n",
              "      <th>416</th>\n",
              "      <td>580023451303316199</td>\n",
              "      <td>27/02/2025 06:40:23</td>\n",
              "      <td>Ru9 HQ</td>\n",
              "      <td>TiktokShop</td>\n",
              "      <td>Thuy Trang Dang</td>\n",
              "      <td>Đã hủy</td>\n",
              "      <td>Khách lẻ</td>\n",
              "      <td>TRVPILLOWNCGR01</td>\n",
              "      <td>[TRVPILLOWNCGR01] Gối Cổ Giảm Âm (Grey Orange)</td>\n",
              "      <td>879120.0</td>\n",
              "    </tr>\n",
              "    <tr>\n",
              "      <th>417</th>\n",
              "      <td>2502278NS6K1FT</td>\n",
              "      <td>27/02/2025 02:44:33</td>\n",
              "      <td>Ru9 HQ</td>\n",
              "      <td>Shopee</td>\n",
              "      <td>Thuy Trang Dang</td>\n",
              "      <td>Hoàn thành</td>\n",
              "      <td>Chu mạnh Tuấn</td>\n",
              "      <td>MAYPILLOW01</td>\n",
              "      <td>[MAYPILLOW01] Gối Mây (Thấp - 50 x 70 x 8cm)</td>\n",
              "      <td>372910.0</td>\n",
              "    </tr>\n",
              "    <tr>\n",
              "      <th>418</th>\n",
              "      <td>2502278N1EENC7</td>\n",
              "      <td>27/02/2025 02:31:15</td>\n",
              "      <td>Kho Ops HN</td>\n",
              "      <td>Shopee</td>\n",
              "      <td>Thuy Trang Dang</td>\n",
              "      <td>Hoàn thành</td>\n",
              "      <td>Anh Long</td>\n",
              "      <td>MAYPILLOW02</td>\n",
              "      <td>[MAYPILLOW02] Gối Mây (Cao - 50 x 70 x 12cm)</td>\n",
              "      <td>436100.0</td>\n",
              "    </tr>\n",
              "  </tbody>\n",
              "</table>\n",
              "<p>418 rows × 10 columns</p>\n",
              "</div>\n",
              "    <div class=\"colab-df-buttons\">\n",
              "\n",
              "  <div class=\"colab-df-container\">\n",
              "    <button class=\"colab-df-convert\" onclick=\"convertToInteractive('df-270e9529-9f1d-4d5f-a6a2-8ebb604265ee')\"\n",
              "            title=\"Convert this dataframe to an interactive table.\"\n",
              "            style=\"display:none;\">\n",
              "\n",
              "  <svg xmlns=\"http://www.w3.org/2000/svg\" height=\"24px\" viewBox=\"0 -960 960 960\">\n",
              "    <path d=\"M120-120v-720h720v720H120Zm60-500h600v-160H180v160Zm220 220h160v-160H400v160Zm0 220h160v-160H400v160ZM180-400h160v-160H180v160Zm440 0h160v-160H620v160ZM180-180h160v-160H180v160Zm440 0h160v-160H620v160Z\"/>\n",
              "  </svg>\n",
              "    </button>\n",
              "\n",
              "  <style>\n",
              "    .colab-df-container {\n",
              "      display:flex;\n",
              "      gap: 12px;\n",
              "    }\n",
              "\n",
              "    .colab-df-convert {\n",
              "      background-color: #E8F0FE;\n",
              "      border: none;\n",
              "      border-radius: 50%;\n",
              "      cursor: pointer;\n",
              "      display: none;\n",
              "      fill: #1967D2;\n",
              "      height: 32px;\n",
              "      padding: 0 0 0 0;\n",
              "      width: 32px;\n",
              "    }\n",
              "\n",
              "    .colab-df-convert:hover {\n",
              "      background-color: #E2EBFA;\n",
              "      box-shadow: 0px 1px 2px rgba(60, 64, 67, 0.3), 0px 1px 3px 1px rgba(60, 64, 67, 0.15);\n",
              "      fill: #174EA6;\n",
              "    }\n",
              "\n",
              "    .colab-df-buttons div {\n",
              "      margin-bottom: 4px;\n",
              "    }\n",
              "\n",
              "    [theme=dark] .colab-df-convert {\n",
              "      background-color: #3B4455;\n",
              "      fill: #D2E3FC;\n",
              "    }\n",
              "\n",
              "    [theme=dark] .colab-df-convert:hover {\n",
              "      background-color: #434B5C;\n",
              "      box-shadow: 0px 1px 3px 1px rgba(0, 0, 0, 0.15);\n",
              "      filter: drop-shadow(0px 1px 2px rgba(0, 0, 0, 0.3));\n",
              "      fill: #FFFFFF;\n",
              "    }\n",
              "  </style>\n",
              "\n",
              "    <script>\n",
              "      const buttonEl =\n",
              "        document.querySelector('#df-270e9529-9f1d-4d5f-a6a2-8ebb604265ee button.colab-df-convert');\n",
              "      buttonEl.style.display =\n",
              "        google.colab.kernel.accessAllowed ? 'block' : 'none';\n",
              "\n",
              "      async function convertToInteractive(key) {\n",
              "        const element = document.querySelector('#df-270e9529-9f1d-4d5f-a6a2-8ebb604265ee');\n",
              "        const dataTable =\n",
              "          await google.colab.kernel.invokeFunction('convertToInteractive',\n",
              "                                                    [key], {});\n",
              "        if (!dataTable) return;\n",
              "\n",
              "        const docLinkHtml = 'Like what you see? Visit the ' +\n",
              "          '<a target=\"_blank\" href=https://colab.research.google.com/notebooks/data_table.ipynb>data table notebook</a>'\n",
              "          + ' to learn more about interactive tables.';\n",
              "        element.innerHTML = '';\n",
              "        dataTable['output_type'] = 'display_data';\n",
              "        await google.colab.output.renderOutput(dataTable, element);\n",
              "        const docLink = document.createElement('div');\n",
              "        docLink.innerHTML = docLinkHtml;\n",
              "        element.appendChild(docLink);\n",
              "      }\n",
              "    </script>\n",
              "  </div>\n",
              "\n",
              "\n",
              "    <div id=\"df-cc6f757b-75c5-4e65-9935-df231f07586c\">\n",
              "      <button class=\"colab-df-quickchart\" onclick=\"quickchart('df-cc6f757b-75c5-4e65-9935-df231f07586c')\"\n",
              "                title=\"Suggest charts\"\n",
              "                style=\"display:none;\">\n",
              "\n",
              "<svg xmlns=\"http://www.w3.org/2000/svg\" height=\"24px\"viewBox=\"0 0 24 24\"\n",
              "     width=\"24px\">\n",
              "    <g>\n",
              "        <path d=\"M19 3H5c-1.1 0-2 .9-2 2v14c0 1.1.9 2 2 2h14c1.1 0 2-.9 2-2V5c0-1.1-.9-2-2-2zM9 17H7v-7h2v7zm4 0h-2V7h2v10zm4 0h-2v-4h2v4z\"/>\n",
              "    </g>\n",
              "</svg>\n",
              "      </button>\n",
              "\n",
              "<style>\n",
              "  .colab-df-quickchart {\n",
              "      --bg-color: #E8F0FE;\n",
              "      --fill-color: #1967D2;\n",
              "      --hover-bg-color: #E2EBFA;\n",
              "      --hover-fill-color: #174EA6;\n",
              "      --disabled-fill-color: #AAA;\n",
              "      --disabled-bg-color: #DDD;\n",
              "  }\n",
              "\n",
              "  [theme=dark] .colab-df-quickchart {\n",
              "      --bg-color: #3B4455;\n",
              "      --fill-color: #D2E3FC;\n",
              "      --hover-bg-color: #434B5C;\n",
              "      --hover-fill-color: #FFFFFF;\n",
              "      --disabled-bg-color: #3B4455;\n",
              "      --disabled-fill-color: #666;\n",
              "  }\n",
              "\n",
              "  .colab-df-quickchart {\n",
              "    background-color: var(--bg-color);\n",
              "    border: none;\n",
              "    border-radius: 50%;\n",
              "    cursor: pointer;\n",
              "    display: none;\n",
              "    fill: var(--fill-color);\n",
              "    height: 32px;\n",
              "    padding: 0;\n",
              "    width: 32px;\n",
              "  }\n",
              "\n",
              "  .colab-df-quickchart:hover {\n",
              "    background-color: var(--hover-bg-color);\n",
              "    box-shadow: 0 1px 2px rgba(60, 64, 67, 0.3), 0 1px 3px 1px rgba(60, 64, 67, 0.15);\n",
              "    fill: var(--button-hover-fill-color);\n",
              "  }\n",
              "\n",
              "  .colab-df-quickchart-complete:disabled,\n",
              "  .colab-df-quickchart-complete:disabled:hover {\n",
              "    background-color: var(--disabled-bg-color);\n",
              "    fill: var(--disabled-fill-color);\n",
              "    box-shadow: none;\n",
              "  }\n",
              "\n",
              "  .colab-df-spinner {\n",
              "    border: 2px solid var(--fill-color);\n",
              "    border-color: transparent;\n",
              "    border-bottom-color: var(--fill-color);\n",
              "    animation:\n",
              "      spin 1s steps(1) infinite;\n",
              "  }\n",
              "\n",
              "  @keyframes spin {\n",
              "    0% {\n",
              "      border-color: transparent;\n",
              "      border-bottom-color: var(--fill-color);\n",
              "      border-left-color: var(--fill-color);\n",
              "    }\n",
              "    20% {\n",
              "      border-color: transparent;\n",
              "      border-left-color: var(--fill-color);\n",
              "      border-top-color: var(--fill-color);\n",
              "    }\n",
              "    30% {\n",
              "      border-color: transparent;\n",
              "      border-left-color: var(--fill-color);\n",
              "      border-top-color: var(--fill-color);\n",
              "      border-right-color: var(--fill-color);\n",
              "    }\n",
              "    40% {\n",
              "      border-color: transparent;\n",
              "      border-right-color: var(--fill-color);\n",
              "      border-top-color: var(--fill-color);\n",
              "    }\n",
              "    60% {\n",
              "      border-color: transparent;\n",
              "      border-right-color: var(--fill-color);\n",
              "    }\n",
              "    80% {\n",
              "      border-color: transparent;\n",
              "      border-right-color: var(--fill-color);\n",
              "      border-bottom-color: var(--fill-color);\n",
              "    }\n",
              "    90% {\n",
              "      border-color: transparent;\n",
              "      border-bottom-color: var(--fill-color);\n",
              "    }\n",
              "  }\n",
              "</style>\n",
              "\n",
              "      <script>\n",
              "        async function quickchart(key) {\n",
              "          const quickchartButtonEl =\n",
              "            document.querySelector('#' + key + ' button');\n",
              "          quickchartButtonEl.disabled = true;  // To prevent multiple clicks.\n",
              "          quickchartButtonEl.classList.add('colab-df-spinner');\n",
              "          try {\n",
              "            const charts = await google.colab.kernel.invokeFunction(\n",
              "                'suggestCharts', [key], {});\n",
              "          } catch (error) {\n",
              "            console.error('Error during call to suggestCharts:', error);\n",
              "          }\n",
              "          quickchartButtonEl.classList.remove('colab-df-spinner');\n",
              "          quickchartButtonEl.classList.add('colab-df-quickchart-complete');\n",
              "        }\n",
              "        (() => {\n",
              "          let quickchartButtonEl =\n",
              "            document.querySelector('#df-cc6f757b-75c5-4e65-9935-df231f07586c button');\n",
              "          quickchartButtonEl.style.display =\n",
              "            google.colab.kernel.accessAllowed ? 'block' : 'none';\n",
              "        })();\n",
              "      </script>\n",
              "    </div>\n",
              "\n",
              "  <div id=\"id_faaf81d2-097d-4ddf-bab9-f96ce68a60ff\">\n",
              "    <style>\n",
              "      .colab-df-generate {\n",
              "        background-color: #E8F0FE;\n",
              "        border: none;\n",
              "        border-radius: 50%;\n",
              "        cursor: pointer;\n",
              "        display: none;\n",
              "        fill: #1967D2;\n",
              "        height: 32px;\n",
              "        padding: 0 0 0 0;\n",
              "        width: 32px;\n",
              "      }\n",
              "\n",
              "      .colab-df-generate:hover {\n",
              "        background-color: #E2EBFA;\n",
              "        box-shadow: 0px 1px 2px rgba(60, 64, 67, 0.3), 0px 1px 3px 1px rgba(60, 64, 67, 0.15);\n",
              "        fill: #174EA6;\n",
              "      }\n",
              "\n",
              "      [theme=dark] .colab-df-generate {\n",
              "        background-color: #3B4455;\n",
              "        fill: #D2E3FC;\n",
              "      }\n",
              "\n",
              "      [theme=dark] .colab-df-generate:hover {\n",
              "        background-color: #434B5C;\n",
              "        box-shadow: 0px 1px 3px 1px rgba(0, 0, 0, 0.15);\n",
              "        filter: drop-shadow(0px 1px 2px rgba(0, 0, 0, 0.3));\n",
              "        fill: #FFFFFF;\n",
              "      }\n",
              "    </style>\n",
              "    <button class=\"colab-df-generate\" onclick=\"generateWithVariable('df_sanpham')\"\n",
              "            title=\"Generate code using this dataframe.\"\n",
              "            style=\"display:none;\">\n",
              "\n",
              "  <svg xmlns=\"http://www.w3.org/2000/svg\" height=\"24px\"viewBox=\"0 0 24 24\"\n",
              "       width=\"24px\">\n",
              "    <path d=\"M7,19H8.4L18.45,9,17,7.55,7,17.6ZM5,21V16.75L18.45,3.32a2,2,0,0,1,2.83,0l1.4,1.43a1.91,1.91,0,0,1,.58,1.4,1.91,1.91,0,0,1-.58,1.4L9.25,21ZM18.45,9,17,7.55Zm-12,3A5.31,5.31,0,0,0,4.9,8.1,5.31,5.31,0,0,0,1,6.5,5.31,5.31,0,0,0,4.9,4.9,5.31,5.31,0,0,0,6.5,1,5.31,5.31,0,0,0,8.1,4.9,5.31,5.31,0,0,0,12,6.5,5.46,5.46,0,0,0,6.5,12Z\"/>\n",
              "  </svg>\n",
              "    </button>\n",
              "    <script>\n",
              "      (() => {\n",
              "      const buttonEl =\n",
              "        document.querySelector('#id_faaf81d2-097d-4ddf-bab9-f96ce68a60ff button.colab-df-generate');\n",
              "      buttonEl.style.display =\n",
              "        google.colab.kernel.accessAllowed ? 'block' : 'none';\n",
              "\n",
              "      buttonEl.onclick = () => {\n",
              "        google.colab.notebook.generateWithVariable('df_sanpham');\n",
              "      }\n",
              "      })();\n",
              "    </script>\n",
              "  </div>\n",
              "\n",
              "    </div>\n",
              "  </div>\n"
            ],
            "application/vnd.google.colaboratory.intrinsic+json": {
              "type": "dataframe",
              "variable_name": "df_sanpham",
              "summary": "{\n  \"name\": \"df_sanpham\",\n  \"rows\": 418,\n  \"fields\": [\n    {\n      \"column\": \"M\\u00e3 \\u0110H\",\n      \"properties\": {\n        \"dtype\": \"string\",\n        \"num_unique_values\": 274,\n        \"samples\": [\n          \"250303JG1YYGEJ\",\n          \"SON23771\",\n          \"SP6287633187038\"\n        ],\n        \"semantic_type\": \"\",\n        \"description\": \"\"\n      }\n    },\n    {\n      \"column\": \"Ng\\u00e0y ch\\u1ee9ng t\\u1eeb\",\n      \"properties\": {\n        \"dtype\": \"category\",\n        \"num_unique_values\": 152,\n        \"samples\": [\n          \"03/03/2025 00:01:10\",\n          \"27/02/2025 07:35:34\",\n          \"28/02/2025 13:12:42\"\n        ],\n        \"semantic_type\": \"\",\n        \"description\": \"\"\n      }\n    },\n    {\n      \"column\": \"Chi nh\\u00e1nh\",\n      \"properties\": {\n        \"dtype\": \"category\",\n        \"num_unique_values\": 6,\n        \"samples\": [\n          \"Ru9 HQ\",\n          \"ODN Q7\",\n          \"Kho Tr\\u1ea3 - Ru9HQ\"\n        ],\n        \"semantic_type\": \"\",\n        \"description\": \"\"\n      }\n    },\n    {\n      \"column\": \"Ngu\\u1ed3n b\\u00e1n h\\u00e0ng\",\n      \"properties\": {\n        \"dtype\": \"category\",\n        \"num_unique_values\": 15,\n        \"samples\": [\n          \"Thanh l\\u00fd HCM\",\n          \"Staff\",\n          \"Shopee\"\n        ],\n        \"semantic_type\": \"\",\n        \"description\": \"\"\n      }\n    },\n    {\n      \"column\": \"Nh\\u00e2n vi\\u00ean t\\u1ea1o \\u0111\\u01a1n\",\n      \"properties\": {\n        \"dtype\": \"category\",\n        \"num_unique_values\": 16,\n        \"samples\": [\n          \"Thuy Trang Dang\",\n          \"Phan Th\\u1ecb Y\\u1ebfn Phi\",\n          \"Th\\u00e1i H\\u1ed3ng Ng\\u1ecdc\"\n        ],\n        \"semantic_type\": \"\",\n        \"description\": \"\"\n      }\n    },\n    {\n      \"column\": \"Tr\\u1ea1ng th\\u00e1i \\u0111\\u01a1n h\\u00e0ng\",\n      \"properties\": {\n        \"dtype\": \"category\",\n        \"num_unique_values\": 4,\n        \"samples\": [\n          \"\\u0110\\u00e3 h\\u1ee7y\",\n          \"Ho\\u00e0n th\\u00e0nh\",\n          \"\\u0110\\u1eb7t h\\u00e0ng\"\n        ],\n        \"semantic_type\": \"\",\n        \"description\": \"\"\n      }\n    },\n    {\n      \"column\": \"T\\u00ean kh\\u00e1ch h\\u00e0ng\",\n      \"properties\": {\n        \"dtype\": \"category\",\n        \"num_unique_values\": 203,\n        \"samples\": [\n          \"p*****n\",\n          \"tram tong\",\n          \"Nguy\\u1ec5n Huy\\u1ec1n\"\n        ],\n        \"semantic_type\": \"\",\n        \"description\": \"\"\n      }\n    },\n    {\n      \"column\": \"M\\u00e3 s\\u1ea3n ph\\u1ea9m\",\n      \"properties\": {\n        \"dtype\": \"category\",\n        \"num_unique_values\": 166,\n        \"samples\": [\n          \"RU9ORG31\",\n          \"BDLNBSGRN6131\",\n          \"EMSGR01\"\n        ],\n        \"semantic_type\": \"\",\n        \"description\": \"\"\n      }\n    },\n    {\n      \"column\": \"T\\u00ean s\\u1ea3n ph\\u1ea9m\",\n      \"properties\": {\n        \"dtype\": \"category\",\n        \"num_unique_values\": 166,\n        \"samples\": [\n          \"[RU9ORG31] N\\u1ec7m Original (Queen - 160x200cm)\",\n          \"[BDLNBSGRN6131] B\\u1ed9 Ga Gi\\u01b0\\u1eddng Linen (Queen - 160x200cm,Olive Green)\",\n          \"[EMSGR01] Ru9 Eye Mask (12x15cm,Lavender Grey)\"\n        ],\n        \"semantic_type\": \"\",\n        \"description\": \"\"\n      }\n    },\n    {\n      \"column\": \"T\\u1ed5ng ti\\u1ec1n h\\u00e0ng\",\n      \"properties\": {\n        \"dtype\": \"number\",\n        \"std\": 3599202.802774322,\n        \"min\": 0.0,\n        \"max\": 27980000.0,\n        \"num_unique_values\": 226,\n        \"samples\": [\n          309671.0,\n          869000.0,\n          1637600.0\n        ],\n        \"semantic_type\": \"\",\n        \"description\": \"\"\n      }\n    }\n  ]\n}"
            }
          },
          "metadata": {},
          "execution_count": 4
        }
      ]
    },
    {
      "cell_type": "code",
      "source": [
        "\n",
        "df_donhang['Điện thoại KH'] = df_donhang['Điện thoại KH'].astype('str')"
      ],
      "metadata": {
        "id": "wP0pu9q5k_CE"
      },
      "execution_count": 5,
      "outputs": []
    },
    {
      "cell_type": "code",
      "source": [
        "for i in df_donhang.index:\n",
        "  if df_donhang.at[i,'Điện thoại KH'][-2:] == '.0':\n",
        "    df_donhang.at[i,'Điện thoại KH'] = df_donhang.at[i,'Điện thoại KH'][:-2]"
      ],
      "metadata": {
        "id": "tZRCjIvSvFEs"
      },
      "execution_count": 6,
      "outputs": []
    },
    {
      "cell_type": "code",
      "source": [
        "df_donhang['Điện thoại KH'] = df_donhang['Điện thoại KH'].str.replace(\")\",\"\")\n",
        "df_donhang['Điện thoại KH'] = df_donhang['Điện thoại KH'].str.replace(\"(\",\"\")\n",
        "df_donhang['Điện thoại KH'] = df_donhang['Điện thoại KH'].str.replace(\" \",\"\")"
      ],
      "metadata": {
        "id": "qW1eRGWN-1DA"
      },
      "execution_count": 7,
      "outputs": []
    },
    {
      "cell_type": "code",
      "source": [
        "df_donhang = df_donhang[~df_donhang['Mã ĐH'].isna()]"
      ],
      "metadata": {
        "id": "16mu3mrstDEW"
      },
      "execution_count": 8,
      "outputs": []
    },
    {
      "cell_type": "code",
      "execution_count": 9,
      "metadata": {
        "id": "gI3Omnvp8RK9"
      },
      "outputs": [],
      "source": [
        "for i in df_donhang.index:\n",
        "    if (df_donhang.at[i,'Điện thoại KH'] != False):\n",
        "      try:\n",
        "        df_donhang.at[i,'Điện thoại KH'] = int(df_donhang.at[i,'Điện thoại KH'])\n",
        "        df_donhang.at[i,'Điện thoại KH'] = str(df_donhang.at[i,'Điện thoại KH']).replace(' ','')\n",
        "        df_donhang.at[i,'Điện thoại KH'] = '+84' + str(df_donhang.at[i,'Điện thoại KH'])[1:] if len(str(df_donhang.at[i,'Điện thoại KH'])) == 10 else df_donhang.at[i,'Điện thoại KH']\n",
        "        df_donhang.at[i,'Điện thoại KH'] = '+84' + str((df_donhang.at[i,'Điện thoại KH'])) if len(str(df_donhang.at[i,'Điện thoại KH'])) == 9 else df_donhang.at[i,'Điện thoại KH']\n",
        "        df_donhang.at[i,'Điện thoại KH'] = '+84' + str(df_donhang.at[i,'Điện thoại KH'])[3:] if len(str(df_donhang.at[i,'Điện thoại KH'])) == 12 else df_donhang.at[i,'Điện thoại KH']\n",
        "      except:\n",
        "        df_donhang.at[i,'Điện thoại KH'] = None\n",
        "\n"
      ]
    },
    {
      "cell_type": "code",
      "execution_count": 10,
      "metadata": {
        "id": "3kqbrG7u8RK9"
      },
      "outputs": [],
      "source": [
        "df_update = df_sanpham.merge(df_donhang,how='left',on='Mã ĐH')"
      ]
    },
    {
      "cell_type": "code",
      "execution_count": 11,
      "metadata": {
        "id": "iAQ78F0R8RK-",
        "colab": {
          "base_uri": "https://localhost:8080/",
          "height": 497
        },
        "outputId": "106bac04-4aee-4f7f-b836-0f033ef40fe1"
      },
      "outputs": [
        {
          "output_type": "error",
          "ename": "ValueError",
          "evalue": "time data \"28/02/2025 23:12:56\" doesn't match format \"%m/%d/%Y %H:%M:%S\", at position 276. You might want to try:\n    - passing `format` if your strings have a consistent format;\n    - passing `format='ISO8601'` if your strings are all ISO8601 but not necessarily in exactly the same format;\n    - passing `format='mixed'`, and the format will be inferred for each element individually. You might want to use `dayfirst` alongside this.",
          "traceback": [
            "\u001b[0;31m---------------------------------------------------------------------------\u001b[0m",
            "\u001b[0;31mValueError\u001b[0m                                Traceback (most recent call last)",
            "\u001b[0;32m<ipython-input-11-0590f1b29d15>\u001b[0m in \u001b[0;36m<cell line: 0>\u001b[0;34m()\u001b[0m\n\u001b[0;32m----> 1\u001b[0;31m \u001b[0mdf_update\u001b[0m\u001b[0;34m[\u001b[0m\u001b[0;34m'Ngày chứng từ_x'\u001b[0m\u001b[0;34m]\u001b[0m \u001b[0;34m=\u001b[0m \u001b[0mpd\u001b[0m\u001b[0;34m.\u001b[0m\u001b[0mto_datetime\u001b[0m\u001b[0;34m(\u001b[0m\u001b[0mdf_update\u001b[0m\u001b[0;34m[\u001b[0m\u001b[0;34m'Ngày chứng từ_x'\u001b[0m\u001b[0;34m]\u001b[0m\u001b[0;34m)\u001b[0m\u001b[0;34m\u001b[0m\u001b[0;34m\u001b[0m\u001b[0m\n\u001b[0m",
            "\u001b[0;32m/usr/local/lib/python3.11/dist-packages/pandas/core/tools/datetimes.py\u001b[0m in \u001b[0;36mto_datetime\u001b[0;34m(arg, errors, dayfirst, yearfirst, utc, format, exact, unit, infer_datetime_format, origin, cache)\u001b[0m\n\u001b[1;32m   1065\u001b[0m             \u001b[0mresult\u001b[0m \u001b[0;34m=\u001b[0m \u001b[0marg\u001b[0m\u001b[0;34m.\u001b[0m\u001b[0mmap\u001b[0m\u001b[0;34m(\u001b[0m\u001b[0mcache_array\u001b[0m\u001b[0;34m)\u001b[0m\u001b[0;34m\u001b[0m\u001b[0;34m\u001b[0m\u001b[0m\n\u001b[1;32m   1066\u001b[0m         \u001b[0;32melse\u001b[0m\u001b[0;34m:\u001b[0m\u001b[0;34m\u001b[0m\u001b[0;34m\u001b[0m\u001b[0m\n\u001b[0;32m-> 1067\u001b[0;31m             \u001b[0mvalues\u001b[0m \u001b[0;34m=\u001b[0m \u001b[0mconvert_listlike\u001b[0m\u001b[0;34m(\u001b[0m\u001b[0marg\u001b[0m\u001b[0;34m.\u001b[0m\u001b[0m_values\u001b[0m\u001b[0;34m,\u001b[0m \u001b[0mformat\u001b[0m\u001b[0;34m)\u001b[0m\u001b[0;34m\u001b[0m\u001b[0;34m\u001b[0m\u001b[0m\n\u001b[0m\u001b[1;32m   1068\u001b[0m             \u001b[0mresult\u001b[0m \u001b[0;34m=\u001b[0m \u001b[0marg\u001b[0m\u001b[0;34m.\u001b[0m\u001b[0m_constructor\u001b[0m\u001b[0;34m(\u001b[0m\u001b[0mvalues\u001b[0m\u001b[0;34m,\u001b[0m \u001b[0mindex\u001b[0m\u001b[0;34m=\u001b[0m\u001b[0marg\u001b[0m\u001b[0;34m.\u001b[0m\u001b[0mindex\u001b[0m\u001b[0;34m,\u001b[0m \u001b[0mname\u001b[0m\u001b[0;34m=\u001b[0m\u001b[0marg\u001b[0m\u001b[0;34m.\u001b[0m\u001b[0mname\u001b[0m\u001b[0;34m)\u001b[0m\u001b[0;34m\u001b[0m\u001b[0;34m\u001b[0m\u001b[0m\n\u001b[1;32m   1069\u001b[0m     \u001b[0;32melif\u001b[0m \u001b[0misinstance\u001b[0m\u001b[0;34m(\u001b[0m\u001b[0marg\u001b[0m\u001b[0;34m,\u001b[0m \u001b[0;34m(\u001b[0m\u001b[0mABCDataFrame\u001b[0m\u001b[0;34m,\u001b[0m \u001b[0mabc\u001b[0m\u001b[0;34m.\u001b[0m\u001b[0mMutableMapping\u001b[0m\u001b[0;34m)\u001b[0m\u001b[0;34m)\u001b[0m\u001b[0;34m:\u001b[0m\u001b[0;34m\u001b[0m\u001b[0;34m\u001b[0m\u001b[0m\n",
            "\u001b[0;32m/usr/local/lib/python3.11/dist-packages/pandas/core/tools/datetimes.py\u001b[0m in \u001b[0;36m_convert_listlike_datetimes\u001b[0;34m(arg, format, name, utc, unit, errors, dayfirst, yearfirst, exact)\u001b[0m\n\u001b[1;32m    431\u001b[0m     \u001b[0;31m# `format` could be inferred, or user didn't ask for mixed-format parsing.\u001b[0m\u001b[0;34m\u001b[0m\u001b[0;34m\u001b[0m\u001b[0m\n\u001b[1;32m    432\u001b[0m     \u001b[0;32mif\u001b[0m \u001b[0mformat\u001b[0m \u001b[0;32mis\u001b[0m \u001b[0;32mnot\u001b[0m \u001b[0;32mNone\u001b[0m \u001b[0;32mand\u001b[0m \u001b[0mformat\u001b[0m \u001b[0;34m!=\u001b[0m \u001b[0;34m\"mixed\"\u001b[0m\u001b[0;34m:\u001b[0m\u001b[0;34m\u001b[0m\u001b[0;34m\u001b[0m\u001b[0m\n\u001b[0;32m--> 433\u001b[0;31m         \u001b[0;32mreturn\u001b[0m \u001b[0m_array_strptime_with_fallback\u001b[0m\u001b[0;34m(\u001b[0m\u001b[0marg\u001b[0m\u001b[0;34m,\u001b[0m \u001b[0mname\u001b[0m\u001b[0;34m,\u001b[0m \u001b[0mutc\u001b[0m\u001b[0;34m,\u001b[0m \u001b[0mformat\u001b[0m\u001b[0;34m,\u001b[0m \u001b[0mexact\u001b[0m\u001b[0;34m,\u001b[0m \u001b[0merrors\u001b[0m\u001b[0;34m)\u001b[0m\u001b[0;34m\u001b[0m\u001b[0;34m\u001b[0m\u001b[0m\n\u001b[0m\u001b[1;32m    434\u001b[0m \u001b[0;34m\u001b[0m\u001b[0m\n\u001b[1;32m    435\u001b[0m     result, tz_parsed = objects_to_datetime64(\n",
            "\u001b[0;32m/usr/local/lib/python3.11/dist-packages/pandas/core/tools/datetimes.py\u001b[0m in \u001b[0;36m_array_strptime_with_fallback\u001b[0;34m(arg, name, utc, fmt, exact, errors)\u001b[0m\n\u001b[1;32m    465\u001b[0m     \u001b[0mCall\u001b[0m \u001b[0marray_strptime\u001b[0m\u001b[0;34m,\u001b[0m \u001b[0;32mwith\u001b[0m \u001b[0mfallback\u001b[0m \u001b[0mbehavior\u001b[0m \u001b[0mdepending\u001b[0m \u001b[0mon\u001b[0m \u001b[0;34m'errors'\u001b[0m\u001b[0;34m.\u001b[0m\u001b[0;34m\u001b[0m\u001b[0;34m\u001b[0m\u001b[0m\n\u001b[1;32m    466\u001b[0m     \"\"\"\n\u001b[0;32m--> 467\u001b[0;31m     \u001b[0mresult\u001b[0m\u001b[0;34m,\u001b[0m \u001b[0mtz_out\u001b[0m \u001b[0;34m=\u001b[0m \u001b[0marray_strptime\u001b[0m\u001b[0;34m(\u001b[0m\u001b[0marg\u001b[0m\u001b[0;34m,\u001b[0m \u001b[0mfmt\u001b[0m\u001b[0;34m,\u001b[0m \u001b[0mexact\u001b[0m\u001b[0;34m=\u001b[0m\u001b[0mexact\u001b[0m\u001b[0;34m,\u001b[0m \u001b[0merrors\u001b[0m\u001b[0;34m=\u001b[0m\u001b[0merrors\u001b[0m\u001b[0;34m,\u001b[0m \u001b[0mutc\u001b[0m\u001b[0;34m=\u001b[0m\u001b[0mutc\u001b[0m\u001b[0;34m)\u001b[0m\u001b[0;34m\u001b[0m\u001b[0;34m\u001b[0m\u001b[0m\n\u001b[0m\u001b[1;32m    468\u001b[0m     \u001b[0;32mif\u001b[0m \u001b[0mtz_out\u001b[0m \u001b[0;32mis\u001b[0m \u001b[0;32mnot\u001b[0m \u001b[0;32mNone\u001b[0m\u001b[0;34m:\u001b[0m\u001b[0;34m\u001b[0m\u001b[0;34m\u001b[0m\u001b[0m\n\u001b[1;32m    469\u001b[0m         \u001b[0munit\u001b[0m \u001b[0;34m=\u001b[0m \u001b[0mnp\u001b[0m\u001b[0;34m.\u001b[0m\u001b[0mdatetime_data\u001b[0m\u001b[0;34m(\u001b[0m\u001b[0mresult\u001b[0m\u001b[0;34m.\u001b[0m\u001b[0mdtype\u001b[0m\u001b[0;34m)\u001b[0m\u001b[0;34m[\u001b[0m\u001b[0;36m0\u001b[0m\u001b[0;34m]\u001b[0m\u001b[0;34m\u001b[0m\u001b[0;34m\u001b[0m\u001b[0m\n",
            "\u001b[0;32mstrptime.pyx\u001b[0m in \u001b[0;36mpandas._libs.tslibs.strptime.array_strptime\u001b[0;34m()\u001b[0m\n",
            "\u001b[0;32mstrptime.pyx\u001b[0m in \u001b[0;36mpandas._libs.tslibs.strptime.array_strptime\u001b[0;34m()\u001b[0m\n",
            "\u001b[0;32mstrptime.pyx\u001b[0m in \u001b[0;36mpandas._libs.tslibs.strptime._parse_with_format\u001b[0;34m()\u001b[0m\n",
            "\u001b[0;31mValueError\u001b[0m: time data \"28/02/2025 23:12:56\" doesn't match format \"%m/%d/%Y %H:%M:%S\", at position 276. You might want to try:\n    - passing `format` if your strings have a consistent format;\n    - passing `format='ISO8601'` if your strings are all ISO8601 but not necessarily in exactly the same format;\n    - passing `format='mixed'`, and the format will be inferred for each element individually. You might want to use `dayfirst` alongside this."
          ]
        }
      ],
      "source": [
        "df_update['Ngày chứng từ_x'] = pd.to_datetime(df_update['Ngày chứng từ_x'])"
      ]
    },
    {
      "cell_type": "markdown",
      "metadata": {
        "id": "iAP0I5bk8RK-"
      },
      "source": [
        "### Xử lý offline event\n"
      ]
    },
    {
      "cell_type": "code",
      "execution_count": null,
      "metadata": {
        "id": "JtmGX2xl8RLA"
      },
      "outputs": [],
      "source": [
        "columns_off_event = ['phone','email','country','event_name','event_time','value','currency','order_id','ln','fn','gen','ct','zip']"
      ]
    },
    {
      "cell_type": "code",
      "execution_count": null,
      "metadata": {
        "id": "tfLCNUF68RLB"
      },
      "outputs": [],
      "source": [
        "df_offline = df_update[['Điện thoại KH','Email','Khách phải trả','Mã ĐH','Tên khách hàng_x','Ngày chứng từ_x']].copy()\n",
        "df_offline.drop_duplicates(inplace=True)"
      ]
    },
    {
      "cell_type": "code",
      "execution_count": null,
      "metadata": {
        "id": "b5sDoZyn8RLD"
      },
      "outputs": [],
      "source": [
        "df_offline['Ngày chứng từ_x'] = df_offline['Ngày chứng từ_x'].dt.date"
      ]
    },
    {
      "cell_type": "code",
      "execution_count": null,
      "metadata": {
        "id": "w2NkJM1D8RLE"
      },
      "outputs": [],
      "source": [
        "df_offline['Email'].fillna('',inplace=True)"
      ]
    },
    {
      "cell_type": "code",
      "execution_count": null,
      "metadata": {
        "id": "jlEJCv648RLE"
      },
      "outputs": [],
      "source": [
        "df_offline['country'] = 'VN'\n",
        "df_offline['event_name']='Purchase'\n",
        "df_offline['currency'] = 'VND'\n",
        "df_offline['ln'] = ''\n",
        "df_offline['gen'] = ''\n",
        "df_offline['ct'] = ''\n",
        "df_offline['zip'] = ''\n"
      ]
    },
    {
      "cell_type": "code",
      "execution_count": null,
      "metadata": {
        "id": "pLE-LvEF8RLE"
      },
      "outputs": [],
      "source": [
        "rename_event={'Điện thoại KH':'phone','Email':'email','Khách phải trả':'value','Mã ĐH':'order_id','Ngày chứng từ_x':'event_time','Tên khách hàng_x':'fn'}\n",
        "df_offline.rename(columns=rename_event,inplace=True)"
      ]
    },
    {
      "cell_type": "code",
      "execution_count": null,
      "metadata": {
        "id": "iRM9jbaw8RLF"
      },
      "outputs": [],
      "source": [
        "df_off = df_offline[['phone','email','country','event_name','event_time','value','currency','order_id','ln','fn','gen','ct','zip']].copy()"
      ]
    },
    {
      "cell_type": "code",
      "execution_count": null,
      "metadata": {
        "id": "rzs5XEXa8RLF"
      },
      "outputs": [],
      "source": [
        "df_off.to_csv('OfflineEvent.csv')"
      ]
    },
    {
      "cell_type": "code",
      "source": [
        "df_off.head()"
      ],
      "metadata": {
        "id": "2HvxR7NOortb"
      },
      "execution_count": null,
      "outputs": []
    },
    {
      "cell_type": "markdown",
      "metadata": {
        "id": "BLmSC5jQ8RLF"
      },
      "source": [
        "### Xuất file customer list"
      ]
    },
    {
      "cell_type": "code",
      "execution_count": null,
      "metadata": {
        "id": "N40qq0RP8RLF"
      },
      "outputs": [],
      "source": [
        "df_customerlist = df_update[['Điện thoại KH','Email','Khách phải trả','Tên khách hàng_x','Trạng thái đơn hàng_x']].copy()\n",
        "df_customerlist.drop_duplicates(inplace=True)"
      ]
    },
    {
      "cell_type": "code",
      "execution_count": null,
      "metadata": {
        "id": "tlhhCI2W8RLG"
      },
      "outputs": [],
      "source": [
        "df_customerlist = df_customerlist[df_customerlist['Trạng thái đơn hàng_x'] != 'Đã hủy']"
      ]
    },
    {
      "cell_type": "code",
      "execution_count": null,
      "metadata": {
        "id": "2TvAj8nt8RLG"
      },
      "outputs": [],
      "source": [
        "df_customerlist.drop('Trạng thái đơn hàng_x',axis = 1,inplace=True)\n",
        "df_customerlist['Email'].fillna('',inplace=True)"
      ]
    },
    {
      "cell_type": "code",
      "execution_count": null,
      "metadata": {
        "id": "vToLi9XJ8RLG"
      },
      "outputs": [],
      "source": [
        "df_customerlist['country'] = 'VN'\n",
        "df_customerlist['ln'] = ''\n",
        "df_customerlist['gen'] = ''\n",
        "df_customerlist['ct'] = ''\n",
        "df_customerlist['zip'] = ''"
      ]
    },
    {
      "cell_type": "code",
      "execution_count": null,
      "metadata": {
        "id": "N3ZW1t728RLG"
      },
      "outputs": [],
      "source": [
        "column_customerlist = ['phone','email','country','value','ln','fn','gen','ct','zip']\n",
        "df_customerlist.rename(columns=rename_event,inplace=True)\n",
        "df_customerlist=df_customerlist[column_customerlist]"
      ]
    },
    {
      "cell_type": "code",
      "execution_count": null,
      "metadata": {
        "id": "BR0rwqDi8RLH"
      },
      "outputs": [],
      "source": [
        "df_customerlist.to_csv('CustomerList.csv')"
      ]
    },
    {
      "cell_type": "code",
      "source": [
        "df_customerlist"
      ],
      "metadata": {
        "id": "8ASJeW0GowqB"
      },
      "execution_count": null,
      "outputs": []
    },
    {
      "cell_type": "markdown",
      "metadata": {
        "id": "BpjjezZJ8RLH"
      },
      "source": [
        "### Xuất file sản phẩm"
      ]
    },
    {
      "cell_type": "code",
      "source": [
        "df_update.columns"
      ],
      "metadata": {
        "id": "MqrBauqMqevE"
      },
      "execution_count": null,
      "outputs": []
    },
    {
      "cell_type": "code",
      "execution_count": null,
      "metadata": {
        "id": "piGUBue58RLH"
      },
      "outputs": [],
      "source": [
        "df_product =  df_update[['Điện thoại KH','Ngày chứng từ_x', 'Mã sản phẩm','Email','Tổng tiền hàng','Tên khách hàng_x','Mã ĐH','Trạng thái đơn hàng_x']].copy()"
      ]
    },
    {
      "cell_type": "code",
      "source": [
        "df_product.head()"
      ],
      "metadata": {
        "id": "1AKGD_eMpAoe"
      },
      "execution_count": null,
      "outputs": []
    },
    {
      "cell_type": "code",
      "execution_count": null,
      "metadata": {
        "id": "jBT3gARC8RLH"
      },
      "outputs": [],
      "source": [
        "df_product = df_product[df_product['Trạng thái đơn hàng_x']!='Đã hủy']"
      ]
    },
    {
      "cell_type": "code",
      "execution_count": null,
      "metadata": {
        "id": "eyRYvuow8RLH"
      },
      "outputs": [],
      "source": [
        "new_columns_name = {'Điện thoại KH':'phone','Ngày chứng từ_x':'event_time','Tổng tiền hàng':'value','Tên khách hàng_x':'fn','Mã sản phẩm':'name_x','Email':'email'}\n",
        "df_product.rename(columns = new_columns_name,inplace=True)\n"
      ]
    },
    {
      "cell_type": "code",
      "execution_count": null,
      "metadata": {
        "id": "xhbCiBuq8RLH"
      },
      "outputs": [],
      "source": [
        "df_product['event_name'] = 'Purchase'\n",
        "df_product['country'] = 'VN'\n",
        "df_product['ln'] = ''\n",
        "df_product['gen'] = ''\n",
        "df_product['ct'] = ''\n",
        "df_product['zip'] = ''\n",
        "df_product['email'].fillna('',inplace=True)\n"
      ]
    },
    {
      "cell_type": "code",
      "execution_count": null,
      "metadata": {
        "id": "oSuqoNkT8RLI"
      },
      "outputs": [],
      "source": [
        "df_product.drop_duplicates(inplace=True)"
      ]
    },
    {
      "cell_type": "code",
      "source": [
        "df_product.columns"
      ],
      "metadata": {
        "id": "Cqo8iMQQo4PC"
      },
      "execution_count": null,
      "outputs": []
    },
    {
      "cell_type": "code",
      "source": [
        "df_product['name_x'] = df_product['name_x'].astype('str')"
      ],
      "metadata": {
        "id": "c0BuNbFzq_Sp"
      },
      "execution_count": null,
      "outputs": []
    },
    {
      "cell_type": "code",
      "execution_count": null,
      "metadata": {
        "id": "YBMgez1X8RLI"
      },
      "outputs": [],
      "source": [
        "# Tạo df topper và xóa nó khỏi product\n",
        "df_topper = df_product[df_product['name_x'].str.contains('ORGTOPPER')]\n",
        "df_product.drop(df_topper.index, axis=0, inplace=True)\n",
        "\n",
        "# Tạo df bedding và xóa nó khỏi product\n",
        "df_bedding = df_product[df_product['name_x'].str.contains('BSLN') | df_product['name_x'].str.contains('BSCT') | df_product['name_x'].str.contains('BSSAT') | df_product['name_x'].str.contains('BSTEN') | df_product['name_x'].str.contains('BSPER') | df_product['name_x'].str.contains('RBD') | df_product['name_x'].str.contains('PCTEN') | df_product['name_x'].str.contains('PCCT') | df_product['name_x'].str.contains('PCLN') | df_product['name_x'].str.contains('PLCASESAT') | df_product['name_x'].str.contains('FTTEN') | df_product['name_x'].str.contains('FTCT') | df_product['name_x'].str.contains('DCTEN') | df_product['name_x'].str.contains('FTLN') | df_product['name_x'].str.contains('DCCT') | df_product['name_x'].str.contains('DCLN') | df_product['name_x'].str.contains('PLCASESAT')]\n",
        "df_product.drop(df_bedding.index, axis=0, inplace=True)\n",
        "\n",
        "# Tạo df nem và xóa nó khỏi product\n",
        "df_nem = df_product[df_product['name_x'].str.contains('RU9NEST') | df_product['name_x'].str.contains('RU9ORG') | df_product['name_x'].str.contains('RU9HYB')]\n",
        "df_product.drop(df_nem.index, axis=0, inplace=True)\n",
        "\n",
        "# Tạo df goi và xóa nó khỏi product\n",
        "df_goi = df_product[df_product['name_x'].str.contains('NIUPILLOW') | df_product['name_x'].str.contains('NIUPILLOW2') | df_product['name_x'].str.contains('MAYPILLOW01') | df_product['name_x'].str.contains('MAYPILLOW02') | df_product['name_x'].str.contains('NIUPILLOW2') | df_product['name_x'].str.contains('NIUPILLOW2') | df_product['name_x'].str.contains('BODYPILLOW') | df_product['name_x'].str.contains('TRVPILLOW')]\n"
      ]
    },
    {
      "cell_type": "code",
      "source": [
        "df_topper"
      ],
      "metadata": {
        "id": "yCa2WMcVpxQJ"
      },
      "execution_count": null,
      "outputs": []
    },
    {
      "cell_type": "code",
      "execution_count": null,
      "metadata": {
        "id": "X34LU8688RLI"
      },
      "outputs": [],
      "source": [
        "df_list = ['phone','email','country','value','ln','fn','gen','ct','zip']"
      ]
    },
    {
      "cell_type": "code",
      "execution_count": null,
      "metadata": {
        "id": "tHo6jpof8RLI"
      },
      "outputs": [],
      "source": [
        "df_other = df_product.copy()\n",
        "df_other.drop('name_x',axis=1,inplace=True)\n",
        "df_other = df_other[df_list]"
      ]
    },
    {
      "cell_type": "code",
      "execution_count": null,
      "metadata": {
        "id": "xjTSaN_L8RLJ"
      },
      "outputs": [],
      "source": [
        "df_other.set_index('phone').to_csv('Accessories.csv',encoding='utf-16')"
      ]
    },
    {
      "cell_type": "code",
      "execution_count": null,
      "metadata": {
        "id": "9duZ1d0v8RLJ"
      },
      "outputs": [],
      "source": [
        "\n",
        "df_topper.drop('name_x',axis=1,inplace=True)\n",
        "df_topper = df_topper[df_list]"
      ]
    },
    {
      "cell_type": "code",
      "execution_count": null,
      "metadata": {
        "id": "QRP5Q2sN8RLJ"
      },
      "outputs": [],
      "source": [
        "df_topper.set_index('phone').to_csv('Topper.csv',encoding='utf-16')"
      ]
    },
    {
      "cell_type": "code",
      "execution_count": null,
      "metadata": {
        "id": "cI70BPAd8RLK"
      },
      "outputs": [],
      "source": [
        "\n",
        "df_bedding.drop('name_x',axis=1,inplace=True)\n",
        "df_bedding = df_bedding[df_list]"
      ]
    },
    {
      "cell_type": "code",
      "execution_count": null,
      "metadata": {
        "id": "hEtWH9ty8RLK"
      },
      "outputs": [],
      "source": [
        "df_bedding.set_index('phone').to_csv('Bedding.csv',encoding='utf-16')"
      ]
    },
    {
      "cell_type": "code",
      "execution_count": null,
      "metadata": {
        "id": "6iUGcRv78RLK"
      },
      "outputs": [],
      "source": [
        "\n",
        "df_nem.drop('name_x',axis=1,inplace=True)\n",
        "df_nem = df_nem[df_list]"
      ]
    },
    {
      "cell_type": "code",
      "execution_count": null,
      "metadata": {
        "id": "HILYnjf88RLK"
      },
      "outputs": [],
      "source": [
        "df_nem.set_index('phone').to_csv('Nem.csv',encoding='utf-16')"
      ]
    },
    {
      "cell_type": "code",
      "execution_count": null,
      "metadata": {
        "id": "jYzX8AVj8RLK"
      },
      "outputs": [],
      "source": [
        "\n",
        "df_goi.drop('name_x',axis=1,inplace=True)\n",
        "df_niu = df_goi[df_list]"
      ]
    },
    {
      "cell_type": "code",
      "execution_count": null,
      "metadata": {
        "id": "XnFq8v9t8RLK"
      },
      "outputs": [],
      "source": [
        "df_goi.set_index('phone').to_csv('Goi.csv',encoding='utf-16')"
      ]
    },
    {
      "cell_type": "code",
      "source": [
        "files.download('Goi.csv')\n",
        "files.download('Accessories.csv')\n",
        "files.download('Bedding.csv')\n",
        "files.download('/content/CustomerList.csv')\n",
        "files.download('/content/Nem.csv')\n",
        "files.download('/content/OfflineEvent.csv')\n",
        "files.download('/content/Topper.csv')"
      ],
      "metadata": {
        "id": "S886rpWhdL3s"
      },
      "execution_count": null,
      "outputs": []
    },
    {
      "cell_type": "code",
      "source": [],
      "metadata": {
        "id": "cz_OX1bqrTTo"
      },
      "execution_count": null,
      "outputs": []
    }
  ],
  "metadata": {
    "kernelspec": {
      "display_name": "Python 3.10.7 64-bit",
      "language": "python",
      "name": "python3"
    },
    "language_info": {
      "codemirror_mode": {
        "name": "ipython",
        "version": 3
      },
      "file_extension": ".py",
      "mimetype": "text/x-python",
      "name": "python",
      "nbconvert_exporter": "python",
      "pygments_lexer": "ipython3",
      "version": "3.10.7"
    },
    "orig_nbformat": 4,
    "vscode": {
      "interpreter": {
        "hash": "52634da84371cba311ea128a5ea7cdc41ff074b781779e754b270ff9f8153cee"
      }
    },
    "colab": {
      "provenance": [],
      "collapsed_sections": [
        "xMsYtjPe8t3M"
      ],
      "include_colab_link": true
    }
  },
  "nbformat": 4,
  "nbformat_minor": 0
}